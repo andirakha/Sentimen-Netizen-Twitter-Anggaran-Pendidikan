{
 "cells": [
  {
   "cell_type": "code",
   "execution_count": 1,
   "id": "1a44d6db",
   "metadata": {},
   "outputs": [],
   "source": [
    "from selenium import webdriver\n",
    "from selenium.webdriver.common.by import By\n",
    "from selenium.webdriver.chrome.options import Options\n",
    "from selenium.webdriver.chrome.service import Service\n",
    "import pandas as pd\n",
    "import time"
   ]
  },
  {
   "cell_type": "code",
   "execution_count": null,
   "id": "67682279",
   "metadata": {},
   "outputs": [],
   "source": [
    "# Konfigurasi opsi Chrome\n",
    "options = Options()\n",
    "options.add_argument(\"--start-maximized\")\n",
    "\n",
    "# Path ke ChromeDriver yang sudah di-download\n",
    "driver_path = 'C:/Users/andi1/Documents/Python Stuff/Sentiment Analysis (X or Twitter)/chromedriver.exe'\n",
    "\n",
    "# Setup WebDriver untuk Chrome\n",
    "service = Service(executable_path=driver_path)\n",
    "driver = webdriver.Chrome(service=service, options=options)\n",
    "\n",
    "# Akses Twitter\n",
    "driver.get('https://x.com/')"
   ]
  },
  {
   "cell_type": "code",
   "execution_count": 3,
   "id": "58f21f31",
   "metadata": {},
   "outputs": [],
   "source": [
    "# Kata kunci pencarian: \"anggaran pendidikan\"\n",
    "url = f\"https://x.com/search?q=%22anggaran%20pendidikan%22&f=live&src=typed_query\"\n",
    "\n",
    "# Buka Twitter Search\n",
    "driver.get(url)\n",
    "time.sleep(5)\n",
    "\n",
    "# Variabel untuk menyimpan data tweet\n",
    "data = []\n",
    "\n",
    "# Scroll beberapa kali untuk load lebih banyak tweet\n",
    "for i in range(60):\n",
    "\n",
    "    # Scroll ke bawah jika bagian pertama sudah diambil\n",
    "    if i > 0:\n",
    "        driver.execute_script(\"window.scrollBy(0, 2000);\")\n",
    "    time.sleep(4)\n",
    "\n",
    "    # Ambil semua tweet (versi baru)\n",
    "    tweets = driver.find_elements(By.CSS_SELECTOR, 'article[role=\"article\"]')\n",
    "\n",
    "    # Ambil data dari setiap tweet\n",
    "    for tweet in tweets:\n",
    "        try:\n",
    "            username = tweet.find_element(By.XPATH, './/div[@dir=\"ltr\"]/span[contains(text(), \"@\")]').text\n",
    "            content = tweet.find_element(By.XPATH, './/div[@data-testid=\"tweetText\"]').text\n",
    "            timestamp = tweet.find_element(By.TAG_NAME, 'time').get_attribute('datetime')\n",
    "            \n",
    "            # Skip jika sudah ada entri yang sama\n",
    "            if any(d['username'] == username and d['content'] == content for d in data):\n",
    "                continue\n",
    "            data.append({\n",
    "                'username': username,\n",
    "                'content': content,\n",
    "                'timestamp': timestamp\n",
    "            })\n",
    "        except:\n",
    "            continue"
   ]
  },
  {
   "cell_type": "code",
   "execution_count": 4,
   "id": "cb8d4f29",
   "metadata": {},
   "outputs": [],
   "source": [
    "# Simpan data ke CSV\n",
    "df = pd.DataFrame(data)\n",
    "df.to_csv('tweets_data.csv', index=False)"
   ]
  }
 ],
 "metadata": {
  "kernelspec": {
   "display_name": "env",
   "language": "python",
   "name": "python3"
  },
  "language_info": {
   "codemirror_mode": {
    "name": "ipython",
    "version": 3
   },
   "file_extension": ".py",
   "mimetype": "text/x-python",
   "name": "python",
   "nbconvert_exporter": "python",
   "pygments_lexer": "ipython3",
   "version": "3.10.9"
  }
 },
 "nbformat": 4,
 "nbformat_minor": 5
}
