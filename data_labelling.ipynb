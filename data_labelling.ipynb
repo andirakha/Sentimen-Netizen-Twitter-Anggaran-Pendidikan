{
 "cells": [
  {
   "cell_type": "code",
   "execution_count": 11,
   "id": "7f4b1528",
   "metadata": {},
   "outputs": [],
   "source": [
    "import pandas as pd\n",
    "import torch\n",
    "from transformers import AutoTokenizer, AutoModelForSequenceClassification\n",
    "from torch.nn.functional import softmax"
   ]
  },
  {
   "cell_type": "code",
   "execution_count": 12,
   "id": "198e6180",
   "metadata": {},
   "outputs": [
    {
     "data": {
      "text/html": [
       "<div>\n",
       "<style scoped>\n",
       "    .dataframe tbody tr th:only-of-type {\n",
       "        vertical-align: middle;\n",
       "    }\n",
       "\n",
       "    .dataframe tbody tr th {\n",
       "        vertical-align: top;\n",
       "    }\n",
       "\n",
       "    .dataframe thead th {\n",
       "        text-align: right;\n",
       "    }\n",
       "</style>\n",
       "<table border=\"1\" class=\"dataframe\">\n",
       "  <thead>\n",
       "    <tr style=\"text-align: right;\">\n",
       "      <th></th>\n",
       "      <th>username</th>\n",
       "      <th>content</th>\n",
       "      <th>timestamp</th>\n",
       "      <th>clean_text</th>\n",
       "      <th>tokens</th>\n",
       "      <th>filtered_tokens</th>\n",
       "    </tr>\n",
       "  </thead>\n",
       "  <tbody>\n",
       "    <tr>\n",
       "      <th>0</th>\n",
       "      <td>@sigittricahyono</td>\n",
       "      <td>Lebih dari itu, masih banyak program lain yg s...</td>\n",
       "      <td>2025-04-24T06:59:11.000Z</td>\n",
       "      <td>lebih dari itu masih banyak program lain yg se...</td>\n",
       "      <td>['lebih', 'dari', 'itu', 'masih', 'banyak', 'p...</td>\n",
       "      <td>['program', 'menimbulkan', 'efek', 'domino', '...</td>\n",
       "    </tr>\n",
       "    <tr>\n",
       "      <th>1</th>\n",
       "      <td>@hejin234</td>\n",
       "      <td>Rapat Dpr yg membahas anggaran pendidikan dila...</td>\n",
       "      <td>2025-04-24T05:03:32.000Z</td>\n",
       "      <td>rapat dpr yg membahas anggaran pendidikan dila...</td>\n",
       "      <td>['rapat', 'dpr', 'yg', 'membahas', 'anggaran',...</td>\n",
       "      <td>['rapat', 'dpr', 'membahas', 'anggaran', 'pend...</td>\n",
       "    </tr>\n",
       "    <tr>\n",
       "      <th>2</th>\n",
       "      <td>@idthreedots</td>\n",
       "      <td>ini tu salah satu bukti ketololan pendidikan k...</td>\n",
       "      <td>2025-04-24T00:32:49.000Z</td>\n",
       "      <td>ini tu salah satu bukti ketololan pendidikan k...</td>\n",
       "      <td>['ini', 'tu', 'salah', 'satu', 'bukti', 'ketol...</td>\n",
       "      <td>['salah', 'bukti', 'ketololan', 'pendidikan', ...</td>\n",
       "    </tr>\n",
       "    <tr>\n",
       "      <th>3</th>\n",
       "      <td>@Joyparksyoungs</td>\n",
       "      <td>Lagi2 dampak efisiensi anggaran pendidikan. Ba...</td>\n",
       "      <td>2025-04-23T16:00:04.000Z</td>\n",
       "      <td>lagi dampak efisiensi anggaran pendidikan baru...</td>\n",
       "      <td>['lagi', 'dampak', 'efisiensi', 'anggaran', 'p...</td>\n",
       "      <td>['dampak', 'efisiensi', 'anggaran', 'pendidika...</td>\n",
       "    </tr>\n",
       "    <tr>\n",
       "      <th>4</th>\n",
       "      <td>@anxtrousm</td>\n",
       "      <td>\"kesenjangan pendidikan\" dan kebijakan pemerin...</td>\n",
       "      <td>2025-04-23T13:11:29.000Z</td>\n",
       "      <td>kesenjangan pendidikan dan kebijakan pemerinta...</td>\n",
       "      <td>['kesenjangan', 'pendidikan', 'dan', 'kebijaka...</td>\n",
       "      <td>['kesenjangan', 'pendidikan', 'kebijakan', 'pe...</td>\n",
       "    </tr>\n",
       "  </tbody>\n",
       "</table>\n",
       "</div>"
      ],
      "text/plain": [
       "           username                                            content  \\\n",
       "0  @sigittricahyono  Lebih dari itu, masih banyak program lain yg s...   \n",
       "1         @hejin234  Rapat Dpr yg membahas anggaran pendidikan dila...   \n",
       "2      @idthreedots  ini tu salah satu bukti ketololan pendidikan k...   \n",
       "3   @Joyparksyoungs  Lagi2 dampak efisiensi anggaran pendidikan. Ba...   \n",
       "4        @anxtrousm  \"kesenjangan pendidikan\" dan kebijakan pemerin...   \n",
       "\n",
       "                  timestamp  \\\n",
       "0  2025-04-24T06:59:11.000Z   \n",
       "1  2025-04-24T05:03:32.000Z   \n",
       "2  2025-04-24T00:32:49.000Z   \n",
       "3  2025-04-23T16:00:04.000Z   \n",
       "4  2025-04-23T13:11:29.000Z   \n",
       "\n",
       "                                          clean_text  \\\n",
       "0  lebih dari itu masih banyak program lain yg se...   \n",
       "1  rapat dpr yg membahas anggaran pendidikan dila...   \n",
       "2  ini tu salah satu bukti ketololan pendidikan k...   \n",
       "3  lagi dampak efisiensi anggaran pendidikan baru...   \n",
       "4  kesenjangan pendidikan dan kebijakan pemerinta...   \n",
       "\n",
       "                                              tokens  \\\n",
       "0  ['lebih', 'dari', 'itu', 'masih', 'banyak', 'p...   \n",
       "1  ['rapat', 'dpr', 'yg', 'membahas', 'anggaran',...   \n",
       "2  ['ini', 'tu', 'salah', 'satu', 'bukti', 'ketol...   \n",
       "3  ['lagi', 'dampak', 'efisiensi', 'anggaran', 'p...   \n",
       "4  ['kesenjangan', 'pendidikan', 'dan', 'kebijaka...   \n",
       "\n",
       "                                     filtered_tokens  \n",
       "0  ['program', 'menimbulkan', 'efek', 'domino', '...  \n",
       "1  ['rapat', 'dpr', 'membahas', 'anggaran', 'pend...  \n",
       "2  ['salah', 'bukti', 'ketololan', 'pendidikan', ...  \n",
       "3  ['dampak', 'efisiensi', 'anggaran', 'pendidika...  \n",
       "4  ['kesenjangan', 'pendidikan', 'kebijakan', 'pe...  "
      ]
     },
     "execution_count": 12,
     "metadata": {},
     "output_type": "execute_result"
    }
   ],
   "source": [
    "df = pd.read_csv('./tweets_cleaned.csv')\n",
    "df.head()"
   ]
  },
  {
   "cell_type": "code",
   "execution_count": 13,
   "id": "66fc0fe0",
   "metadata": {},
   "outputs": [
    {
     "name": "stderr",
     "output_type": "stream",
     "text": [
      "Some weights of BertForSequenceClassification were not initialized from the model checkpoint at indolem/indobertweet-base-uncased and are newly initialized: ['classifier.bias', 'classifier.weight']\n",
      "You should probably TRAIN this model on a down-stream task to be able to use it for predictions and inference.\n"
     ]
    }
   ],
   "source": [
    "tokenizer = AutoTokenizer.from_pretrained(\"indolem/indobertweet-base-uncased\")\n",
    "model = AutoModelForSequenceClassification.from_pretrained(\"indolem/indobertweet-base-uncased\")"
   ]
  },
  {
   "cell_type": "code",
   "execution_count": 14,
   "id": "6d2c0679",
   "metadata": {},
   "outputs": [],
   "source": [
    "device = torch.device('cuda' if torch.cuda.is_available() else 'cpu')\n",
    "model = model.to(device)"
   ]
  },
  {
   "cell_type": "code",
   "execution_count": 15,
   "id": "dad9b71b",
   "metadata": {},
   "outputs": [],
   "source": [
    "def predict_sentiment(text):\n",
    "    # Tokenisasi\n",
    "    inputs = tokenizer(text, return_tensors=\"pt\", truncation=True, padding=True, max_length=512)\n",
    "    inputs = {key: val.to(device) for key, val in inputs.items()}\n",
    "    \n",
    "    # Prediksi\n",
    "    with torch.no_grad():\n",
    "        outputs = model(**inputs)\n",
    "    \n",
    "    logits = outputs.logits\n",
    "    probs = softmax(logits, dim=1)\n",
    "    prob_values = probs.cpu().numpy()[0]\n",
    "    \n",
    "    # Ambil label tertinggi\n",
    "    pred_label = prob_values.argmax()\n",
    "    \n",
    "    return pred_label, prob_values\n",
    "\n",
    "label_map = {0: \"negative\", 1: \"neutral\", 2: \"positive\"}"
   ]
  },
  {
   "cell_type": "code",
   "execution_count": 16,
   "id": "30541369",
   "metadata": {},
   "outputs": [],
   "source": [
    "sentiments = []\n",
    "\n",
    "for text in df['content']:  # Ganti 'text_column_name' ke nama kolom yang sesuai\n",
    "    label, probs = predict_sentiment(text)\n",
    "    sentiments.append(label_map[label])"
   ]
  },
  {
   "cell_type": "code",
   "execution_count": 17,
   "id": "d7aca2f6",
   "metadata": {},
   "outputs": [],
   "source": [
    "df['sentiment'] = sentiments\n",
    "\n",
    "df.to_csv('./tweets_with_label.csv', index=False)"
   ]
  },
  {
   "cell_type": "code",
   "execution_count": 18,
   "id": "a0a77aee",
   "metadata": {},
   "outputs": [
    {
     "data": {
      "text/html": [
       "<div>\n",
       "<style scoped>\n",
       "    .dataframe tbody tr th:only-of-type {\n",
       "        vertical-align: middle;\n",
       "    }\n",
       "\n",
       "    .dataframe tbody tr th {\n",
       "        vertical-align: top;\n",
       "    }\n",
       "\n",
       "    .dataframe thead th {\n",
       "        text-align: right;\n",
       "    }\n",
       "</style>\n",
       "<table border=\"1\" class=\"dataframe\">\n",
       "  <thead>\n",
       "    <tr style=\"text-align: right;\">\n",
       "      <th></th>\n",
       "      <th>content</th>\n",
       "      <th>sentiment</th>\n",
       "    </tr>\n",
       "  </thead>\n",
       "  <tbody>\n",
       "    <tr>\n",
       "      <th>0</th>\n",
       "      <td>Lebih dari itu, masih banyak program lain yg s...</td>\n",
       "      <td>negative</td>\n",
       "    </tr>\n",
       "    <tr>\n",
       "      <th>1</th>\n",
       "      <td>Rapat Dpr yg membahas anggaran pendidikan dila...</td>\n",
       "      <td>negative</td>\n",
       "    </tr>\n",
       "    <tr>\n",
       "      <th>2</th>\n",
       "      <td>ini tu salah satu bukti ketololan pendidikan k...</td>\n",
       "      <td>negative</td>\n",
       "    </tr>\n",
       "    <tr>\n",
       "      <th>3</th>\n",
       "      <td>Lagi2 dampak efisiensi anggaran pendidikan. Ba...</td>\n",
       "      <td>negative</td>\n",
       "    </tr>\n",
       "    <tr>\n",
       "      <th>4</th>\n",
       "      <td>\"kesenjangan pendidikan\" dan kebijakan pemerin...</td>\n",
       "      <td>negative</td>\n",
       "    </tr>\n",
       "  </tbody>\n",
       "</table>\n",
       "</div>"
      ],
      "text/plain": [
       "                                             content sentiment\n",
       "0  Lebih dari itu, masih banyak program lain yg s...  negative\n",
       "1  Rapat Dpr yg membahas anggaran pendidikan dila...  negative\n",
       "2  ini tu salah satu bukti ketololan pendidikan k...  negative\n",
       "3  Lagi2 dampak efisiensi anggaran pendidikan. Ba...  negative\n",
       "4  \"kesenjangan pendidikan\" dan kebijakan pemerin...  negative"
      ]
     },
     "execution_count": 18,
     "metadata": {},
     "output_type": "execute_result"
    }
   ],
   "source": [
    "df[['content', 'sentiment']].head()"
   ]
  },
  {
   "cell_type": "code",
   "execution_count": 1,
   "id": "52a19be7",
   "metadata": {},
   "outputs": [],
   "source": [
    "import pandas as pd\n",
    "data = pd.read_csv('./tweets_with_label.csv')"
   ]
  },
  {
   "cell_type": "code",
   "execution_count": 8,
   "id": "5cf67c88",
   "metadata": {},
   "outputs": [
    {
     "data": {
      "text/html": [
       "<div>\n",
       "<style scoped>\n",
       "    .dataframe tbody tr th:only-of-type {\n",
       "        vertical-align: middle;\n",
       "    }\n",
       "\n",
       "    .dataframe tbody tr th {\n",
       "        vertical-align: top;\n",
       "    }\n",
       "\n",
       "    .dataframe thead th {\n",
       "        text-align: right;\n",
       "    }\n",
       "</style>\n",
       "<table border=\"1\" class=\"dataframe\">\n",
       "  <thead>\n",
       "    <tr style=\"text-align: right;\">\n",
       "      <th></th>\n",
       "      <th>username</th>\n",
       "      <th>content</th>\n",
       "      <th>timestamp</th>\n",
       "      <th>clean_text</th>\n",
       "      <th>tokens</th>\n",
       "      <th>filtered_tokens</th>\n",
       "      <th>sentiment</th>\n",
       "    </tr>\n",
       "  </thead>\n",
       "  <tbody>\n",
       "    <tr>\n",
       "      <th>0</th>\n",
       "      <td>@sigittricahyono</td>\n",
       "      <td>Lebih dari itu, masih banyak program lain yg s...</td>\n",
       "      <td>2025-04-24T06:59:11.000Z</td>\n",
       "      <td>lebih dari itu masih banyak program lain yg se...</td>\n",
       "      <td>['lebih', 'dari', 'itu', 'masih', 'banyak', 'p...</td>\n",
       "      <td>['program', 'menimbulkan', 'efek', 'domino', '...</td>\n",
       "      <td>negative</td>\n",
       "    </tr>\n",
       "    <tr>\n",
       "      <th>1</th>\n",
       "      <td>@hejin234</td>\n",
       "      <td>Rapat Dpr yg membahas anggaran pendidikan dila...</td>\n",
       "      <td>2025-04-24T05:03:32.000Z</td>\n",
       "      <td>rapat dpr yg membahas anggaran pendidikan dila...</td>\n",
       "      <td>['rapat', 'dpr', 'yg', 'membahas', 'anggaran',...</td>\n",
       "      <td>['rapat', 'dpr', 'membahas', 'anggaran', 'pend...</td>\n",
       "      <td>negative</td>\n",
       "    </tr>\n",
       "    <tr>\n",
       "      <th>2</th>\n",
       "      <td>@idthreedots</td>\n",
       "      <td>ini tu salah satu bukti ketololan pendidikan k...</td>\n",
       "      <td>2025-04-24T00:32:49.000Z</td>\n",
       "      <td>ini tu salah satu bukti ketololan pendidikan k...</td>\n",
       "      <td>['ini', 'tu', 'salah', 'satu', 'bukti', 'ketol...</td>\n",
       "      <td>['salah', 'bukti', 'ketololan', 'pendidikan', ...</td>\n",
       "      <td>negative</td>\n",
       "    </tr>\n",
       "    <tr>\n",
       "      <th>3</th>\n",
       "      <td>@Joyparksyoungs</td>\n",
       "      <td>Lagi2 dampak efisiensi anggaran pendidikan. Ba...</td>\n",
       "      <td>2025-04-23T16:00:04.000Z</td>\n",
       "      <td>lagi dampak efisiensi anggaran pendidikan baru...</td>\n",
       "      <td>['lagi', 'dampak', 'efisiensi', 'anggaran', 'p...</td>\n",
       "      <td>['dampak', 'efisiensi', 'anggaran', 'pendidika...</td>\n",
       "      <td>negative</td>\n",
       "    </tr>\n",
       "    <tr>\n",
       "      <th>4</th>\n",
       "      <td>@anxtrousm</td>\n",
       "      <td>\"kesenjangan pendidikan\" dan kebijakan pemerin...</td>\n",
       "      <td>2025-04-23T13:11:29.000Z</td>\n",
       "      <td>kesenjangan pendidikan dan kebijakan pemerinta...</td>\n",
       "      <td>['kesenjangan', 'pendidikan', 'dan', 'kebijaka...</td>\n",
       "      <td>['kesenjangan', 'pendidikan', 'kebijakan', 'pe...</td>\n",
       "      <td>negative</td>\n",
       "    </tr>\n",
       "  </tbody>\n",
       "</table>\n",
       "</div>"
      ],
      "text/plain": [
       "           username                                            content  \\\n",
       "0  @sigittricahyono  Lebih dari itu, masih banyak program lain yg s...   \n",
       "1         @hejin234  Rapat Dpr yg membahas anggaran pendidikan dila...   \n",
       "2      @idthreedots  ini tu salah satu bukti ketololan pendidikan k...   \n",
       "3   @Joyparksyoungs  Lagi2 dampak efisiensi anggaran pendidikan. Ba...   \n",
       "4        @anxtrousm  \"kesenjangan pendidikan\" dan kebijakan pemerin...   \n",
       "\n",
       "                  timestamp  \\\n",
       "0  2025-04-24T06:59:11.000Z   \n",
       "1  2025-04-24T05:03:32.000Z   \n",
       "2  2025-04-24T00:32:49.000Z   \n",
       "3  2025-04-23T16:00:04.000Z   \n",
       "4  2025-04-23T13:11:29.000Z   \n",
       "\n",
       "                                          clean_text  \\\n",
       "0  lebih dari itu masih banyak program lain yg se...   \n",
       "1  rapat dpr yg membahas anggaran pendidikan dila...   \n",
       "2  ini tu salah satu bukti ketololan pendidikan k...   \n",
       "3  lagi dampak efisiensi anggaran pendidikan baru...   \n",
       "4  kesenjangan pendidikan dan kebijakan pemerinta...   \n",
       "\n",
       "                                              tokens  \\\n",
       "0  ['lebih', 'dari', 'itu', 'masih', 'banyak', 'p...   \n",
       "1  ['rapat', 'dpr', 'yg', 'membahas', 'anggaran',...   \n",
       "2  ['ini', 'tu', 'salah', 'satu', 'bukti', 'ketol...   \n",
       "3  ['lagi', 'dampak', 'efisiensi', 'anggaran', 'p...   \n",
       "4  ['kesenjangan', 'pendidikan', 'dan', 'kebijaka...   \n",
       "\n",
       "                                     filtered_tokens sentiment  \n",
       "0  ['program', 'menimbulkan', 'efek', 'domino', '...  negative  \n",
       "1  ['rapat', 'dpr', 'membahas', 'anggaran', 'pend...  negative  \n",
       "2  ['salah', 'bukti', 'ketololan', 'pendidikan', ...  negative  \n",
       "3  ['dampak', 'efisiensi', 'anggaran', 'pendidika...  negative  \n",
       "4  ['kesenjangan', 'pendidikan', 'kebijakan', 'pe...  negative  "
      ]
     },
     "execution_count": 8,
     "metadata": {},
     "output_type": "execute_result"
    }
   ],
   "source": [
    "data.head()"
   ]
  },
  {
   "cell_type": "code",
   "execution_count": 5,
   "id": "78b05b39",
   "metadata": {},
   "outputs": [
    {
     "data": {
      "text/plain": [
       "<Axes: xlabel='sentiment'>"
      ]
     },
     "execution_count": 5,
     "metadata": {},
     "output_type": "execute_result"
    },
    {
     "data": {
      "image/png": "[encoded data removed]",
      "text/plain": [
       "<Figure size 640x480 with 1 Axes>"
      ]
     },
     "metadata": {},
     "output_type": "display_data"
    }
   ],
   "source": [
    "data[\"sentiment\"].value_counts().plot(kind='bar')"
   ]
  }
 ],
 "metadata": {
  "kernelspec": {
   "display_name": "env",
   "language": "python",
   "name": "python3"
  },
  "language_info": {
   "codemirror_mode": {
    "name": "ipython",
    "version": 3
   },
   "file_extension": ".py",
   "mimetype": "text/x-python",
   "name": "python",
   "nbconvert_exporter": "python",
   "pygments_lexer": "ipython3",
   "version": "3.10.9"
  }
 },
 "nbformat": 4,
 "nbformat_minor": 5
}
